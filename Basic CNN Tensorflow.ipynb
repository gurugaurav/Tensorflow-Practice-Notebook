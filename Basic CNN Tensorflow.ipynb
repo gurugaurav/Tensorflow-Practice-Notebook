{
 "cells": [
  {
   "cell_type": "code",
   "execution_count": 1,
   "metadata": {},
   "outputs": [
    {
     "name": "stdout",
     "output_type": "stream",
     "text": [
      "2.1.0\n"
     ]
    }
   ],
   "source": [
    "from __future__ import absolute_import, division,print_function, unicode_literals\n",
    "import numpy as np\n",
    "import tensorflow as tf\n",
    "from tensorflow import keras as ks\n",
    "from matplotlib  import pyplot as plt\n",
    "print(tf.__version__)"
   ]
  },
  {
   "cell_type": "code",
   "execution_count": 2,
   "metadata": {},
   "outputs": [],
   "source": [
    "mnist_fashion = ks.datasets.fashion_mnist"
   ]
  },
  {
   "cell_type": "code",
   "execution_count": 4,
   "metadata": {},
   "outputs": [
    {
     "name": "stdout",
     "output_type": "stream",
     "text": [
      "Downloading data from https://storage.googleapis.com/tensorflow/tf-keras-datasets/train-labels-idx1-ubyte.gz\n",
      "32768/29515 [=================================] - 0s 5us/step\n",
      "Downloading data from https://storage.googleapis.com/tensorflow/tf-keras-datasets/train-images-idx3-ubyte.gz\n",
      "26427392/26421880 [==============================] - 36s 1us/step\n",
      "Downloading data from https://storage.googleapis.com/tensorflow/tf-keras-datasets/t10k-labels-idx1-ubyte.gz\n",
      "8192/5148 [===============================================] - 0s 0us/step\n",
      "Downloading data from https://storage.googleapis.com/tensorflow/tf-keras-datasets/t10k-images-idx3-ubyte.gz\n",
      "4423680/4422102 [==============================] - 5s 1us/step\n"
     ]
    }
   ],
   "source": [
    "(training_images, training_labels), (test_images,test_labels)\\\n",
    "= mnist_fashion.load_data()"
   ]
  },
  {
   "cell_type": "code",
   "execution_count": 5,
   "metadata": {},
   "outputs": [
    {
     "name": "stdout",
     "output_type": "stream",
     "text": [
      "Training Dataset Shape: ­(60000, 28, 28)\n",
      "No. of Training Dataset Labels: 60000\n",
      "Test Dataset Shape: (10000, 28, 28)\n",
      "No. of Test Dataset Labels: 10000\n"
     ]
    }
   ],
   "source": [
    "print('Training Dataset Shape: ­{}'.format(training_images.shape))\n",
    "print('No. of Training Dataset Labels: {}'.format(len(training_labels)))\n",
    "print('Test Dataset Shape: {}'.format(test_images.shape))\n",
    "print('No. of Test Dataset Labels: {}'.format(len(test_labels)))"
   ]
  },
  {
   "cell_type": "markdown",
   "metadata": {},
   "source": [
    "#### Normalize the pixel"
   ]
  },
  {
   "cell_type": "code",
   "execution_count": 6,
   "metadata": {},
   "outputs": [],
   "source": [
    "training_images =  training_images / 255.0\n",
    "test_images = test_images / 255.0"
   ]
  },
  {
   "cell_type": "code",
   "execution_count": 7,
   "metadata": {},
   "outputs": [],
   "source": [
    "training_images = training_images.reshape((60000, 28, 28, 1))\n",
    "test_images = test_images.reshape((10000, 28, 28, 1))"
   ]
  },
  {
   "cell_type": "code",
   "execution_count": 38,
   "metadata": {},
   "outputs": [],
   "source": [
    "cnn_model = ks.models.Sequential()"
   ]
  },
  {
   "cell_type": "code",
   "execution_count": 39,
   "metadata": {},
   "outputs": [],
   "source": [
    "cnn_model.add(ks.layers.Conv2D(50, (3, 3), activation=\\\n",
    "                              'relu', input_shape=(28, 28, 1), \n",
    "                              name = 'Conv2D_layer'))"
   ]
  },
  {
   "cell_type": "code",
   "execution_count": 40,
   "metadata": {},
   "outputs": [],
   "source": [
    "cnn_model.add(ks.layers.MaxPooling2D((2, 2), name=\\\n",
    "                                    'Maxpooling_2D'))"
   ]
  },
  {
   "cell_type": "code",
   "execution_count": 41,
   "metadata": {},
   "outputs": [],
   "source": [
    "cnn_model.add(ks.layers.Flatten(name='Flatten'))\n",
    "cnn_model.add(ks.layers.Dense(50, activation=\\\n",
    "                              'relu',name = 'Hidden_layer'))\n",
    "cnn_model.add(ks.layers.Dense(10, activation=\\\n",
    "                              'softmax', name='Output_layer'))"
   ]
  },
  {
   "cell_type": "code",
   "execution_count": 42,
   "metadata": {},
   "outputs": [
    {
     "name": "stdout",
     "output_type": "stream",
     "text": [
      "Model: \"sequential_2\"\n",
      "_________________________________________________________________\n",
      "Layer (type)                 Output Shape              Param #   \n",
      "=================================================================\n",
      "Conv2D_layer (Conv2D)        (None, 26, 26, 50)        500       \n",
      "_________________________________________________________________\n",
      "Maxpooling_2D (MaxPooling2D) (None, 13, 13, 50)        0         \n",
      "_________________________________________________________________\n",
      "Flatten (Flatten)            (None, 8450)              0         \n",
      "_________________________________________________________________\n",
      "Hidden_layer (Dense)         (None, 50)                422550    \n",
      "_________________________________________________________________\n",
      "Output_layer (Dense)         (None, 10)                510       \n",
      "=================================================================\n",
      "Total params: 423,560\n",
      "Trainable params: 423,560\n",
      "Non-trainable params: 0\n",
      "_________________________________________________________________\n"
     ]
    }
   ],
   "source": [
    "cnn_model.summary()"
   ]
  },
  {
   "cell_type": "code",
   "execution_count": 43,
   "metadata": {},
   "outputs": [],
   "source": [
    "cnn_model.compile(optimizer='adam', loss=\\\n",
    "                  'sparse_categorical_crossentropy',\\\n",
    "                 metrics=['accuracy'])"
   ]
  },
  {
   "cell_type": "code",
   "execution_count": 44,
   "metadata": {},
   "outputs": [
    {
     "name": "stdout",
     "output_type": "stream",
     "text": [
      "Train on 45000 samples, validate on 15000 samples\n",
      "Epoch 1/10\n",
      "45000/45000 [==============================] - 15s 323us/sample - loss: 0.4242 - accuracy: 0.8507 - val_loss: 0.3179 - val_accuracy: 0.8867\n",
      "Epoch 2/10\n",
      "45000/45000 [==============================] - 14s 320us/sample - loss: 0.2861 - accuracy: 0.8961 - val_loss: 0.2843 - val_accuracy: 0.8965\n",
      "Epoch 3/10\n",
      "45000/45000 [==============================] - 15s 322us/sample - loss: 0.2422 - accuracy: 0.9120 - val_loss: 0.2661 - val_accuracy: 0.9041\n",
      "Epoch 4/10\n",
      "45000/45000 [==============================] - 15s 325us/sample - loss: 0.2100 - accuracy: 0.9233 - val_loss: 0.2618 - val_accuracy: 0.9061\n",
      "Epoch 5/10\n",
      "45000/45000 [==============================] - 14s 322us/sample - loss: 0.1860 - accuracy: 0.9324 - val_loss: 0.2579 - val_accuracy: 0.9099\n",
      "Epoch 6/10\n",
      "45000/45000 [==============================] - 14s 321us/sample - loss: 0.1632 - accuracy: 0.9399 - val_loss: 0.2672 - val_accuracy: 0.9081\n",
      "Epoch 7/10\n",
      "45000/45000 [==============================] - 14s 322us/sample - loss: 0.1421 - accuracy: 0.9478 - val_loss: 0.2675 - val_accuracy: 0.9107\n",
      "Epoch 8/10\n",
      "45000/45000 [==============================] - 14s 321us/sample - loss: 0.1242 - accuracy: 0.9548 - val_loss: 0.2936 - val_accuracy: 0.9065\n",
      "Epoch 9/10\n",
      "45000/45000 [==============================] - 14s 322us/sample - loss: 0.1081 - accuracy: 0.9607 - val_loss: 0.2816 - val_accuracy: 0.9128\n",
      "Epoch 10/10\n",
      "45000/45000 [==============================] - 15s 326us/sample - loss: 0.0939 - accuracy: 0.9660 - val_loss: 0.3367 - val_accuracy: 0.9029\n"
     ]
    }
   ],
   "source": [
    "history = cnn_model.fit(training_images, training_labels, validation_split=0.25, epochs=10)"
   ]
  },
  {
   "cell_type": "code",
   "execution_count": 45,
   "metadata": {},
   "outputs": [
    {
     "name": "stdout",
     "output_type": "stream",
     "text": [
      "60000/60000 [==============================] - 6s 98us/sample - loss: 0.1519 - accuracy: 0.9507\n",
      "Training Accuracy 0.95\n"
     ]
    }
   ],
   "source": [
    "training_loss, training_accuracy = cnn_model.evaluate(training_images, training_labels)\n",
    "print('Training Accuracy {}'.format(round(float(training_accuracy), 2)))"
   ]
  },
  {
   "cell_type": "code",
   "execution_count": 46,
   "metadata": {},
   "outputs": [
    {
     "name": "stdout",
     "output_type": "stream",
     "text": [
      "10000/10000 [==============================] - 1s 99us/sample - loss: 0.3501 - accuracy: 0.8989\n",
      "Test Accuracy 0.9\n"
     ]
    }
   ],
   "source": [
    "test_loss, test_accuracy = cnn_model.evaluate(test_images, test_labels)\n",
    "print('Test Accuracy {}'.format(round(float(test_accuracy), 2)))"
   ]
  },
  {
   "cell_type": "code",
   "execution_count": 49,
   "metadata": {},
   "outputs": [
    {
     "data": {
      "image/png": "[encoded data removed]",
      "text/plain": [
       "<Figure size 432x288 with 1 Axes>"
      ]
     },
     "metadata": {
      "needs_background": "light"
     },
     "output_type": "display_data"
    },
    {
     "data": {
      "image/png": "[encoded data removed]",
      "text/plain": [
       "<Figure size 432x288 with 1 Axes>"
      ]
     },
     "metadata": {
      "needs_background": "light"
     },
     "output_type": "display_data"
    }
   ],
   "source": [
    "plt.plot(history.history['accuracy'])\n",
    "plt.plot(history.history['val_accuracy'])\n",
    "plt.title('Model accuracy')\n",
    "plt.ylabel('Accuracy')\n",
    "plt.xlabel('Epoch')\n",
    "plt.legend(['Train', 'Test'], loc='upper left')\n",
    "plt.show()\n",
    "\n",
    "# Plot training & validation loss values\n",
    "plt.plot(history.history['loss'])\n",
    "plt.plot(history.history['val_loss'])\n",
    "plt.title('Model loss')\n",
    "plt.ylabel('Loss')\n",
    "plt.xlabel('Epoch')\n",
    "plt.legend(['Train', 'Test'], loc='upper left')\n",
    "plt.show()\n"
   ]
  }
 ],
 "metadata": {
  "kernelspec": {
   "display_name": "Python 3",
   "language": "python",
   "name": "python3"
  },
  "language_info": {
   "codemirror_mode": {
    "name": "ipython",
    "version": 3
   },
   "file_extension": ".py",
   "mimetype": "text/x-python",
   "name": "python",
   "nbconvert_exporter": "python",
   "pygments_lexer": "ipython3",
   "version": "3.7.3"
  }
 },
 "nbformat": 4,
 "nbformat_minor": 2
}
